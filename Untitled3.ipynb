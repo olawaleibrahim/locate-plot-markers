{
 "cells": [
  {
   "cell_type": "code",
   "execution_count": 55,
   "metadata": {},
   "outputs": [],
   "source": [
    "import json, re, ast\n",
    "import numpy as np\n",
    "import pandas as pd\n",
    "\n",
    "import tensorflow as tf\n",
    "from PIL import Image\n",
    "from object_detection.utils import visualization_utils as vis_util\n",
    "from object_detection.utils import ops as utils_ops\n",
    "from object_detection.utils import label_map_util\n",
    "\n",
    "import os\n",
    "import io\n",
    "from collections import namedtuple\n",
    "\n",
    "import tensorflow as tf\n",
    "import pandas as pd\n",
    "import numpy as np\n",
    "from PIL import Image\n",
    "\n",
    "from object_detection.utils import dataset_util, label_map_util\n",
    "from object_detection.utils import ops as utils_ops"
   ]
  },
  {
   "cell_type": "code",
   "execution_count": 2,
   "metadata": {},
   "outputs": [],
   "source": [
    "sampleSubmission = pd.read_csv(\"./sample_submission.csv\")"
   ]
  },
  {
   "cell_type": "code",
   "execution_count": 3,
   "metadata": {},
   "outputs": [],
   "source": [
    "trainLabels = pd.read_csv(\"./train_data/labels/labels.csv\")"
   ]
  },
  {
   "cell_type": "code",
   "execution_count": 4,
   "metadata": {},
   "outputs": [
    {
     "data": {
      "text/plain": [
       "((300, 2), (5000, 2))"
      ]
     },
     "execution_count": 4,
     "metadata": {},
     "output_type": "execute_result"
    }
   ],
   "source": [
    "sampleSubmission.shape, trainLabels.shape"
   ]
  },
  {
   "cell_type": "code",
   "execution_count": 5,
   "metadata": {},
   "outputs": [],
   "source": [
    "labels = trainLabels.marker_coordinates"
   ]
  },
  {
   "cell_type": "code",
   "execution_count": 6,
   "metadata": {},
   "outputs": [],
   "source": [
    "TRAIN_TFRECORD_PATH = \"./train.record\"\n",
    "LABEL_PATH = \"./label_map.pbtxt\"\n",
    "IMG_DIR = \"./train_data/images/\""
   ]
  },
  {
   "cell_type": "code",
   "execution_count": 21,
   "metadata": {},
   "outputs": [
    {
     "data": {
      "text/plain": [
       "'[(-75.04456758387215, 294.60046248707664, 0), (-62.483853317710505, 298.95360939270773, 0), (-149.52104052930744, 304.37183757330354, 0), (-67.5857137453002, 293.9548767551092, 0), (-150.75685978348923, 305.4086771496499, 0), (-167.7069064052045, 309.2272726908242, 0), (32.169050978569416, 295.67099096545786, 0), (-109.62025054724799, 300.2698805637449, 0), (-242.68962719437405, 311.07437656889806, 0), (177.99999999999997, 295.7068200554371, 0), (-121.60109383448659, 305.1651851286027, 0), (-76.47719017265639, 309.91400475697657, 0), (-78.62573537117082, 303.65140107442494, 0), (-56.384681591959676, 304.70707561771263, 0), (-50.998984788711475, 300.0784676202468, 0), (-100.18936063521465, 299.54096847074635, 0), (-109.74963337748054, 311.08447821378826, 0), (-101.00955954055473, 300.9365886707614, 0), (33.72596659764868, 306.44612536776026, 0), (-80.54718458785874, 304.2661664436957, 0), (-156.26694005102246, 296.20403701330446, 0), (-210.84557959305786, 305.0595822713324, 0), (-170.40323387502707, 292.72107557074054, 0), (-49.68086912567582, 291.36673197446305, 0), (-192.66497399319618, 304.130296219289, 0), (21.974156024995423, 296.86881583163665, 0), (-70.23030498016801, 300.17353988891847, 0), (15.314544011533357, 299.00635162596666, 0), (-29.589687210609398, 306.0749603991481, 0), (-75.49248137717514, 295.34251702683105, 0), (-3.3122545839125763, 301.1523845893367, 0), (-79.29017297385865, 302.9522743312094, 0), (-178.52540832698836, 301.3334112485952, 0), (-74.03665294289905, 298.19995015891436, 0), (114.80578994107105, 293.8924318475533, 0), (-62.53255697066134, 296.0719143147155, 0), (-228.15710127735105, 308.6764362897035, 0), (61.124106849033694, 292.6093711479543, 0), (-253.0, 301.73992919997795, 0), (34.639911218775566, 303.3120503758557, 0), (-104.73330401284086, 302.8911027486806, 0), (-182.44239713735274, 297.0661427170826, 0), (-95.1828258435008, 304.41813744805313, 0), (-90.02785941701512, 314.36991775784895, 0), (-69.64610065269275, 301.4050149995304, 0), (-207.28476659301162, 303.673519788615, 0), (-107.32802565781034, 301.7217639499276, 0), (-107.9101242811778, 320.164382958017, 0), (112.25330168760482, 306.7842773185897, 0), (-60.78716475328635, 291.1368576343505, 0), (-5.603020311505773, 299.3070696927953, 0), (106.96455221521802, 300.5171975240875, 0), (-55.638767438474964, 293.3663321198992, 0), (-116.96761953866522, 301.6850300198354, 0), (-61.4670820832539, 299.9430239798303, 0), (-63.59479207258944, 303.8028918590798, 0), (-64.9581757195591, 307.7912488272119, 0), (-136.60222668204278, 304.5491342945311, 0), (-165.44862617503503, 302.9257489474529, 0), (-102.52097418631382, 320.0792993570072, 0), (-10.779389975763252, 301.35752884791793, 0), (-138.07556802528566, 306.7800837861057, 0), (-163.10001569541697, 302.0471778373995, 0), (-104.40670998994204, 306.83585200517024, 0), (-122.42938382794631, 328.0, 0), (-147.21376524067557, 299.5572219087334, 0), (-25.426017250238267, 299.6684237336037, 0), (-70.3623852133361, 301.1253244050114, 0), (-184.9456068426193, 301.0360297596476, 0), (-91.48260342818763, 305.80241400001364, 0), (-157.1879553983057, 296.86304310438896, 0), (4.495110818164235, 296.866224821152, 0), (-88.33390457409317, 294.4394744927054, 0), (-86.40376726095576, 301.356669200142, 0), (-88.38863527552351, 310.65147223835663, 0), (-59.03291713772015, 291.837031677657, 0), (-57.45247333564546, 301.93451592287147, 0), (-84.88794901341647, 299.6747324102778, 0), (-105.00596250322242, 318.0095595827591, 0), (-189.88408509822057, 300.82266259547237, 0), (-72.5629841855802, 300.30576445229553, 0), (-65.57737781089087, 296.8569433430281, 0), (-104.92397118528511, 309.85690468332734, 0), (36.69495345817907, 295.49603703219503, 0), (-85.20399181202106, 303.8695649268551, 0), (-98.31589229008839, 309.8872461544294, 0), (-71.97847244166523, 304.5393877805738, 0), (-54.47107493839718, 292.8427042134123, 0), (-26.867949016602402, 284.0, 0)]'"
      ]
     },
     "execution_count": 21,
     "metadata": {},
     "output_type": "execute_result"
    }
   ],
   "source": [
    "trainLabels.iloc[0].marker_coordinates"
   ]
  },
  {
   "cell_type": "code",
   "execution_count": 27,
   "metadata": {},
   "outputs": [
    {
     "name": "stderr",
     "output_type": "stream",
     "text": [
      "/tmp/ipykernel_20076/677426911.py:6: FutureWarning: Possible nested set at position 15\n",
      "  innerre = re.compile(\"\\['([^']+]', '[[^']+)'\\]\")\n"
     ]
    }
   ],
   "source": [
    "outer = re.compile(\"\\[(.+)\\]\")\n",
    "m = outer.search(trainLabels.iloc[0].marker_coordinates)\n",
    "inner_str = m.group(1)\n",
    "\n",
    "# find inner pairs\n",
    "innerre = re.compile(\"\\('([^']+)', '([^']+)'\\)\")\n",
    "\n",
    "results = innerre.findall(inner_str)\n",
    "for x,y in results:\n",
    "    print(\"%s <-> %s\" % (x,y))"
   ]
  },
  {
   "cell_type": "code",
   "execution_count": 59,
   "metadata": {},
   "outputs": [],
   "source": [
    "label = trainLabels.iloc[0].marker_coordinates"
   ]
  },
  {
   "cell_type": "code",
   "execution_count": 58,
   "metadata": {},
   "outputs": [],
   "source": [
    "result= ast.literal_eval(trainLabels.iloc[0].marker_coordinates)"
   ]
  },
  {
   "cell_type": "code",
   "execution_count": 12,
   "metadata": {},
   "outputs": [],
   "source": [
    "def create_tfrecords_from_annotations(annotations):\n",
    "    writer = tf.io.TFRecordWriter(TRAIN_TFRECORD_PATH)\n",
    "    xmls = []\n",
    "    for annotation in annotations:\n",
    "        for i in range(len(annotation[\"annotations\"])):\n",
    "            value = annotation[\"annotations\"][i][\"result\"][0][\"value\"]\n",
    "\n",
    "            xml = {\n",
    "                \"label\": value[\"rectanglelabels\"][0],\n",
    "                \"filename\": annotation[\"data\"][\"image\"],\n",
    "                \"width\": value[\"width\"],\n",
    "                \"height\": value[\"height\"],\n",
    "                \"xmin\": value[\"width\"],\n",
    "                \"ymin\": value[\"height\"],\n",
    "                \"xmax\": value[\"x\"],\n",
    "                \"ymax\": value[\"y\"],\n",
    "            }\n",
    "\n",
    "            xmls.append(xml)\n",
    "            print(xmls)\n",
    "            examples = xml_to_csv(xmls)\n",
    "            grouped = split(examples, 'filename')\n",
    "            for group in grouped:\n",
    "                tf_example = create_tf_example(group, IMG_DIR)\n",
    "                writer.write(tf_example.SerializeToString())\n",
    "    writer.close()\n",
    "\n",
    "def xml_to_csv(xmls):\n",
    "    xml_list = []\n",
    "    for xml in xmls:\n",
    "        filename = xml[\"filename\"]\n",
    "        width = xml[\"width\"]\n",
    "        height = xml[\"height\"]\n",
    "        value = (filename,\n",
    "                 width,\n",
    "                 height,\n",
    "                 xml[\"label\"],\n",
    "                 int(xml[\"xmin\"]),\n",
    "                 int(xml[\"ymin\"]),\n",
    "                 int(xml[\"xmax\"]),\n",
    "                 int(xml[\"xmin\"]),\n",
    "                 )\n",
    "        xml_list.append(value)\n",
    "    column_name = ['filename', 'width', 'height',\n",
    "                   'class', 'xmin', 'ymin', 'xmax', 'ymax']\n",
    "    xml_df = pd.DataFrame(xml_list, columns=column_name)\n",
    "    print(xml_df)\n",
    "    return xml_df\n",
    "\n",
    "def create_tf_example(group, path):\n",
    "    if os.path.exists(group.filename):\n",
    "        with tf.io.gfile.GFile(os.path.join(path, '{}'.format(group.filename)), 'rb') as fid:\n",
    "            encoded_jpg = fid.read()\n",
    "    else:\n",
    "        filename = (group.filename).split(\"/\")[-1]\n",
    "        with tf.io.gfile.GFile(os.path.join(path, '{}'.format(IMG_DIR+filename)), 'rb') as fid:\n",
    "            encoded_jpg = fid.read()\n",
    "    encoded_jpg_io = io.BytesIO(encoded_jpg)\n",
    "    image = Image.open(encoded_jpg_io)\n",
    "    width, height = image.size\n",
    "\n",
    "    filename = group.filename.encode('utf8')\n",
    "    image_format = b'jpg'\n",
    "    xmins = []\n",
    "    xmaxs = []\n",
    "    ymins = []\n",
    "    ymaxs = []\n",
    "    classes_text = []\n",
    "    classes = []\n",
    "\n",
    "    for index, row in group.object.iterrows():\n",
    "        xmins.append(row['xmin'] / width)\n",
    "        xmaxs.append(row['xmax'] / width)\n",
    "        ymins.append(row['ymin'] / height)\n",
    "        ymaxs.append(row['ymax'] / height)\n",
    "        classes_text.append(row['class'].encode('utf8'))\n",
    "        classes.append(class_text_to_int(row['class']))\n",
    "\n",
    "    tf_example = tf.train.Example(features=tf.train.Features(feature={\n",
    "        'image/height': dataset_util.int64_feature(height),\n",
    "        'image/width': dataset_util.int64_feature(width),\n",
    "        'image/filename': dataset_util.bytes_feature(filename),\n",
    "        'image/source_id': dataset_util.bytes_feature(filename),\n",
    "        'image/encoded': dataset_util.bytes_feature(encoded_jpg),\n",
    "        'image/format': dataset_util.bytes_feature(image_format),\n",
    "        'image/object/bbox/xmin': dataset_util.float_list_feature(xmins),\n",
    "        'image/object/bbox/xmax': dataset_util.float_list_feature(xmaxs),\n",
    "        'image/object/bbox/ymin': dataset_util.float_list_feature(ymins),\n",
    "        'image/object/bbox/ymax': dataset_util.float_list_feature(ymaxs),\n",
    "        'image/object/class/text': dataset_util.bytes_list_feature(classes_text),\n",
    "        'image/object/class/label': dataset_util.int64_list_feature(classes),\n",
    "    }))\n",
    "    return tf_example\n",
    "\n",
    "def class_text_to_int(row_label):\n",
    "    label_map_dict = label_map_util.get_label_map_dict(label_map_util.load_labelmap(LABEL_PATH))\n",
    "    return label_map_dict[row_label]\n",
    "\n",
    "def split(df, group):\n",
    "    data = namedtuple('data', ['filename', 'object'])\n",
    "    gb = df.groupby(group)\n",
    "    return [data(filename, gb.get_group(x)) for filename, x in zip(gb.groups.keys(), gb.groups)]"
   ]
  },
  {
   "cell_type": "code",
   "execution_count": null,
   "metadata": {},
   "outputs": [],
   "source": []
  }
 ],
 "metadata": {
  "kernelspec": {
   "display_name": "Python 3",
   "language": "python",
   "name": "python3"
  },
  "language_info": {
   "codemirror_mode": {
    "name": "ipython",
    "version": 3
   },
   "file_extension": ".py",
   "mimetype": "text/x-python",
   "name": "python",
   "nbconvert_exporter": "python",
   "pygments_lexer": "ipython3",
   "version": "3.8.10"
  },
  "vscode": {
   "interpreter": {
    "hash": "89a1728c87a6f0284e1ef76e5783601877524ecc67b4c9a9fda92c95701f86ee"
   }
  }
 },
 "nbformat": 4,
 "nbformat_minor": 4
}
