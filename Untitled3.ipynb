{
 "cells": [
  {
   "cell_type": "code",
   "execution_count": 3,
   "metadata": {},
   "outputs": [],
   "source": [
    "import json\n",
    "import numpy as np\n",
    "import pandas as pd\n",
    "\n",
    "import tensorflow as tf\n",
    "from PIL import Image\n",
    "from object_detection.utils import visualization_utils as vis_util\n",
    "from object_detection.utils import ops as utils_ops\n",
    "from object_detection.utils import label_map_util\n",
    "\n",
    "import os\n",
    "import io\n",
    "from collections import namedtuple\n",
    "\n",
    "import tensorflow as tf\n",
    "import pandas as pd\n",
    "import numpy as np\n",
    "from PIL import Image\n",
    "\n",
    "from object_detection.utils import dataset_util, label_map_util\n",
    "from object_detection.utils import ops as utils_ops"
   ]
  },
  {
   "cell_type": "code",
   "execution_count": 4,
   "metadata": {},
   "outputs": [],
   "source": [
    "sampleSubmission = pd.read_csv(\"./sample_submission.csv\")"
   ]
  },
  {
   "cell_type": "code",
   "execution_count": 5,
   "metadata": {},
   "outputs": [],
   "source": [
    "trainLabels = pd.read_csv(\"./train_data/labels/labels.csv\")"
   ]
  },
  {
   "cell_type": "code",
   "execution_count": 6,
   "metadata": {},
   "outputs": [
    {
     "data": {
      "text/plain": [
       "((300, 2), (5000, 2))"
      ]
     },
     "execution_count": 6,
     "metadata": {},
     "output_type": "execute_result"
    }
   ],
   "source": [
    "sampleSubmission.shape, trainLabels.shape"
   ]
  },
  {
   "cell_type": "code",
   "execution_count": 7,
   "metadata": {},
   "outputs": [],
   "source": [
    "labels = trainLabels.marker_coordinates"
   ]
  },
  {
   "cell_type": "code",
   "execution_count": null,
   "metadata": {},
   "outputs": [],
   "source": [
    "TRAIN_TFRECORD_PATH = \"./train.record\""
   ]
  },
  {
   "cell_type": "code",
   "execution_count": null,
   "metadata": {},
   "outputs": [],
   "source": []
  },
  {
   "cell_type": "code",
   "execution_count": null,
   "metadata": {},
   "outputs": [],
   "source": [
    "def xml_to_csv(xmls):\n",
    "    xml_list = []\n",
    "    for xml in xmls:\n",
    "        filename = xml[\"filename\"]\n",
    "        width = xml[\"width\"]\n",
    "        height = xml[\"height\"]\n",
    "        value = (filename,\n",
    "                 width,\n",
    "                 height,\n",
    "                 xml[\"label\"],\n",
    "                 int(xml[\"xmin\"]),\n",
    "                 int(xml[\"ymin\"]),\n",
    "                 int(xml[\"xmax\"]),\n",
    "                 int(xml[\"xmin\"]),\n",
    "                 )\n",
    "        xml_list.append(value)\n",
    "    column_name = ['filename', 'width', 'height',\n",
    "                   'class', 'xmin', 'ymin', 'xmax', 'ymax']\n",
    "    xml_df = pd.DataFrame(xml_list, columns=column_name)\n",
    "    print(xml_df)\n",
    "    return xml_df\n",
    "\n",
    "def create_tf_example(group, path):\n",
    "    if os.path.exists(group.filename):\n",
    "        with tf.io.gfile.GFile(os.path.join(path, '{}'.format(group.filename)), 'rb') as fid:\n",
    "            encoded_jpg = fid.read()\n",
    "    else:\n",
    "        filename = (group.filename).split(\"/\")[-1]\n",
    "        with tf.io.gfile.GFile(os.path.join(path, '{}'.format(IMG_DIR+filename)), 'rb') as fid:\n",
    "            encoded_jpg = fid.read()\n",
    "    encoded_jpg_io = io.BytesIO(encoded_jpg)\n",
    "    image = Image.open(encoded_jpg_io)\n",
    "    width, height = image.size\n",
    "\n",
    "    filename = group.filename.encode('utf8')\n",
    "    image_format = b'jpg'\n",
    "    xmins = []\n",
    "    xmaxs = []\n",
    "    ymins = []\n",
    "    ymaxs = []\n",
    "    classes_text = []\n",
    "    classes = []\n",
    "\n",
    "    for index, row in group.object.iterrows():\n",
    "        xmins.append(row['xmin'] / width)\n",
    "        xmaxs.append(row['xmax'] / width)\n",
    "        ymins.append(row['ymin'] / height)\n",
    "        ymaxs.append(row['ymax'] / height)\n",
    "        classes_text.append(row['class'].encode('utf8'))\n",
    "        classes.append(class_text_to_int(row['class']))\n",
    "\n",
    "    tf_example = tf.train.Example(features=tf.train.Features(feature={\n",
    "        'image/height': dataset_util.int64_feature(height),\n",
    "        'image/width': dataset_util.int64_feature(width),\n",
    "        'image/filename': dataset_util.bytes_feature(filename),\n",
    "        'image/source_id': dataset_util.bytes_feature(filename),\n",
    "        'image/encoded': dataset_util.bytes_feature(encoded_jpg),\n",
    "        'image/format': dataset_util.bytes_feature(image_format),\n",
    "        'image/object/bbox/xmin': dataset_util.float_list_feature(xmins),\n",
    "        'image/object/bbox/xmax': dataset_util.float_list_feature(xmaxs),\n",
    "        'image/object/bbox/ymin': dataset_util.float_list_feature(ymins),\n",
    "        'image/object/bbox/ymax': dataset_util.float_list_feature(ymaxs),\n",
    "        'image/object/class/text': dataset_util.bytes_list_feature(classes_text),\n",
    "        'image/object/class/label': dataset_util.int64_list_feature(classes),\n",
    "    }))\n",
    "    return tf_example\n",
    "\n",
    "def create_tfrecords_from_annotations(annotations):\n",
    "    writer = tf.io.TFRecordWriter(TRAIN_TFRECORD_PATH)\n",
    "    xmls = []\n",
    "    for annotation in annotations:\n",
    "        for i in range(len(annotation[\"annotations\"])):\n",
    "            value = annotation[\"annotations\"][i][\"result\"][0][\"value\"]\n",
    "\n",
    "            xml = {\n",
    "                \"label\": value[\"rectanglelabels\"][0],\n",
    "                \"filename\": annotation[\"data\"][\"image\"],\n",
    "                \"width\": value[\"width\"],\n",
    "                \"height\": value[\"height\"],\n",
    "                \"xmin\": value[\"width\"],\n",
    "                \"ymin\": value[\"height\"],\n",
    "                \"xmax\": value[\"x\"],\n",
    "                \"ymax\": value[\"y\"],\n",
    "            }\n",
    "\n",
    "            xmls.append(xml)\n",
    "            print(xmls)\n",
    "            examples = xml_to_csv(xmls)\n",
    "            grouped = split(examples, 'filename')\n",
    "            for group in grouped:\n",
    "                tf_example = create_tf_example(group, IMG_DIR)\n",
    "                writer.write(tf_example.SerializeToString())\n",
    "    writer.close()"
   ]
  }
 ],
 "metadata": {
  "kernelspec": {
   "display_name": "tensorflow",
   "language": "python",
   "name": "python3"
  },
  "language_info": {
   "codemirror_mode": {
    "name": "ipython",
    "version": 3
   },
   "file_extension": ".py",
   "mimetype": "text/x-python",
   "name": "python",
   "nbconvert_exporter": "python",
   "pygments_lexer": "ipython3",
   "version": "3.9.12"
  },
  "vscode": {
   "interpreter": {
    "hash": "89a1728c87a6f0284e1ef76e5783601877524ecc67b4c9a9fda92c95701f86ee"
   }
  }
 },
 "nbformat": 4,
 "nbformat_minor": 4
}
